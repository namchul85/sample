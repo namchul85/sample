{
 "cells": [
  {
   "cell_type": "code",
   "execution_count": 1,
   "id": "3b66a591",
   "metadata": {},
   "outputs": [],
   "source": [
    "import pyautogui"
   ]
  },
  {
   "cell_type": "code",
   "execution_count": null,
   "id": "8be04d12",
   "metadata": {},
   "outputs": [],
   "source": [
    "#1.초기화면\n",
    "#1.1. 퍼플 최대화 & 해상도 1920*1080\n",
    "#1.1.1. 아닐 경우 메세지 박스"
   ]
  },
  {
   "cell_type": "code",
   "execution_count": null,
   "id": "2cdb3790",
   "metadata": {},
   "outputs": [],
   "source": [
    "# 각 던전별 매크로 확인 필요"
   ]
  },
  {
   "cell_type": "code",
   "execution_count": null,
   "id": "cb330fc2",
   "metadata": {},
   "outputs": [],
   "source": [
    "#2. 컨텐츠 선택은 특정 위치 클릭\n",
    "#2.1. 메뉴 - 던전\n",
    "#2.2. 시던\n",
    "#2.2.1. 시던 1~6\n",
    "#2.2.2. 드래그로 이동\n",
    "#2.2.3. 시던 7~9\n",
    "#2.3. 파던"
   ]
  },
  {
   "cell_type": "code",
   "execution_count": null,
   "id": "39695309",
   "metadata": {},
   "outputs": [],
   "source": [
    "#3. 입장까지 대기 및 입장 확인 여부\n",
    "#3.1. 파티창 클릭\n",
    "#3.2. 특정 이미지 사라지면 입장 인식"
   ]
  },
  {
   "cell_type": "code",
   "execution_count": null,
   "id": "94d81b79",
   "metadata": {},
   "outputs": [],
   "source": [
    "#4. 컨텐츠별 확인사항\n",
    "#4.1. 달리기 - 지정된 위치에서 특정 이미지가 일치하면 hotkey\n",
    "#4.1.1. 좌+하\n",
    "#4.1.2. 좌\n",
    "#4.1.3. 우+상"
   ]
  },
  {
   "cell_type": "code",
   "execution_count": null,
   "id": "f3e92825",
   "metadata": {},
   "outputs": [],
   "source": [
    "#5. 종료시 특정위치 클릭"
   ]
  }
 ],
 "metadata": {
  "kernelspec": {
   "display_name": "Python 3 (ipykernel)",
   "language": "python",
   "name": "python3"
  },
  "language_info": {
   "codemirror_mode": {
    "name": "ipython",
    "version": 3
   },
   "file_extension": ".py",
   "mimetype": "text/x-python",
   "name": "python",
   "nbconvert_exporter": "python",
   "pygments_lexer": "ipython3",
   "version": "3.9.7"
  }
 },
 "nbformat": 4,
 "nbformat_minor": 5
}
