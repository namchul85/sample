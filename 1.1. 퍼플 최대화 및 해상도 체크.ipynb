{
 "cells": [
  {
   "cell_type": "code",
   "execution_count": 106,
   "id": "c01f830c",
   "metadata": {},
   "outputs": [],
   "source": [
    "#1.1. 퍼플 최대화 & 해상도 1920*1080\n",
    "\n",
    "#확인사항\n",
    "\n",
    "#설치순서\n",
    "#파이썬 3.9.7(Aug. 30, 2021)\n",
    "#python -m pip install --upgrade pip : pip 업그레이드\n",
    "#pip install jupyter : 주피터 노트 설치\n",
    "#pip install pyautogui : 파이오토구이(라이브러리) 설치, 메인 사용\n",
    "#pip install opencv-python : 오픈cv 설치"
   ]
  },
  {
   "cell_type": "code",
   "execution_count": 107,
   "id": "cbf66f61",
   "metadata": {},
   "outputs": [],
   "source": [
    "import pyautogui as p"
   ]
  },
  {
   "cell_type": "code",
   "execution_count": 108,
   "id": "393fe619",
   "metadata": {},
   "outputs": [],
   "source": [
    "#최대화 - 단점은 창 아이콘 변경이 안되서 헷갈림\n",
    "#win = p.getWindowsWithTitle(\"LDPlayer\")[0]\n",
    "#\n",
    "#if win.isMaximized == False:\n",
    "#    win.maximize()"
   ]
  },
  {
   "cell_type": "code",
   "execution_count": 109,
   "id": "1f25756e",
   "metadata": {},
   "outputs": [
    {
     "name": "stdout",
     "output_type": "stream",
     "text": [
      "Point(x=1824, y=847)\n"
     ]
    }
   ],
   "source": [
    "#최대화 - 단점은 단계가 하나 더 생김, 최대화는 잘됨\n",
    "win = p.getWindowsWithTitle(\"LDPlayer\")[0]\n",
    "\n",
    "if win.isActive == False:\n",
    "    win.activate()\n",
    "\n",
    "#p.sleep(1) #위에서 막히면 두줄 #처리하고 현재 줄 1회 실행 후 윗줄 재실행, 이상하게 되네\n",
    "\n",
    "p.sleep(0.5)\n",
    "position = p.locateCenterOnScreen('1.1. maximized.png')\n",
    "print(position)\n",
    "p.click(position)"
   ]
  },
  {
   "cell_type": "code",
   "execution_count": 110,
   "id": "45f2d677",
   "metadata": {},
   "outputs": [
    {
     "name": "stdout",
     "output_type": "stream",
     "text": [
      "Point(x=1771, y=94)\n",
      "Point(x=1346, y=307)\n",
      "Point(x=179, y=426)\n"
     ]
    }
   ],
   "source": [
    "#메뉴-던전-시던\n",
    "if win.isActive == False:\n",
    "    win.activate()\n",
    "    \n",
    "menu = p.locateCenterOnScreen('1.1. menu.png', confidence=0.8)\n",
    "\n",
    "if menu != None:\n",
    "    p.click(menu)\n",
    "\n",
    "print(menu)\n",
    "\n",
    "p.sleep(0.5)\n",
    "\n",
    "dungeon = p.locateCenterOnScreen('1.1. dungeon.png', confidence=0.8)\n",
    "\n",
    "if dungeon != None:\n",
    "    p.click(dungeon)\n",
    "    \n",
    "print(dungeon)\n",
    "\n",
    "p.sleep(0.5)\n",
    "\n",
    "s_dungeon = p.locateCenterOnScreen('1.1. siryun_dungeon.png', confidence=0.8)\n",
    "\n",
    "if dungeon != None:\n",
    "    p.click(s_dungeon)\n",
    "    \n",
    "print(s_dungeon)\n",
    "\n",
    "okay = p.locateCenterOnScreen('1.1. okay.png', confidence=0.8)"
   ]
  },
  {
   "cell_type": "code",
   "execution_count": 111,
   "id": "e4cc0b19",
   "metadata": {},
   "outputs": [
    {
     "name": "stdout",
     "output_type": "stream",
     "text": [
      "None\n"
     ]
    }
   ],
   "source": [
    "#시던 1\n",
    "if win.isActive == False:\n",
    "    win.activate()\n",
    "    \n",
    "sd_1 = p.locateCenterOnScreen('1.1.1. sd_1_run.png', confidence=0.8)\n",
    "\n",
    "if menu != None:\n",
    "    p.click(sd_1)\n",
    "    p.sleep(0.5)\n",
    "    p.click(okay)\n",
    "\n",
    "print(sd_1)\n",
    "\n",
    "p.sleep(0.5)"
   ]
  },
  {
   "cell_type": "code",
   "execution_count": 112,
   "id": "9529bd46",
   "metadata": {},
   "outputs": [],
   "source": [
    "#시던 1 - 입장 대기"
   ]
  },
  {
   "cell_type": "code",
   "execution_count": 113,
   "id": "42480ea2",
   "metadata": {},
   "outputs": [],
   "source": [
    "#시던 1 - 실행"
   ]
  },
  {
   "cell_type": "code",
   "execution_count": 114,
   "id": "8b319080",
   "metadata": {},
   "outputs": [
    {
     "name": "stdout",
     "output_type": "stream",
     "text": [
      "None\n"
     ]
    }
   ],
   "source": [
    "#시던 2\n",
    "if win.isActive == False:\n",
    "    win.activate()\n",
    "    \n",
    "sd_2 = p.locateCenterOnScreen('1.1.1. sd_2_treasure.png', confidence=0.8)\n",
    "\n",
    "if menu != None:\n",
    "    p.click(sd_2)\n",
    "    p.sleep(0.5)\n",
    "    p.click(okay)\n",
    "\n",
    "print(sd_2)\n",
    "\n",
    "p.sleep(0.5)"
   ]
  },
  {
   "cell_type": "code",
   "execution_count": 115,
   "id": "dd5be064",
   "metadata": {},
   "outputs": [],
   "source": [
    "#시던 2 - 입장 대기"
   ]
  },
  {
   "cell_type": "code",
   "execution_count": 116,
   "id": "d4c5e38d",
   "metadata": {},
   "outputs": [],
   "source": [
    "#시던 2 - 실행"
   ]
  },
  {
   "cell_type": "code",
   "execution_count": 117,
   "id": "c57e38eb",
   "metadata": {},
   "outputs": [
    {
     "name": "stdout",
     "output_type": "stream",
     "text": [
      "None\n"
     ]
    }
   ],
   "source": [
    "#시던 3\n",
    "if win.isActive == False:\n",
    "    win.activate()\n",
    "    \n",
    "sd_3 = p.locateCenterOnScreen('1.1.1. sd_3_jail.png', confidence=0.8)\n",
    "\n",
    "if menu != None:\n",
    "    p.click(sd_3)\n",
    "    p.sleep(0.5)\n",
    "    p.click(okay)\n",
    "\n",
    "print(sd_3)\n",
    "\n",
    "p.sleep(0.5)"
   ]
  },
  {
   "cell_type": "code",
   "execution_count": 118,
   "id": "07d0eb3a",
   "metadata": {},
   "outputs": [],
   "source": [
    "#시던 3 - 입장 대기"
   ]
  },
  {
   "cell_type": "code",
   "execution_count": 119,
   "id": "24b472d1",
   "metadata": {},
   "outputs": [],
   "source": [
    "#시던 3 - 실행"
   ]
  },
  {
   "cell_type": "code",
   "execution_count": 120,
   "id": "1bd8e8d9",
   "metadata": {},
   "outputs": [
    {
     "name": "stdout",
     "output_type": "stream",
     "text": [
      "None\n"
     ]
    }
   ],
   "source": [
    "#시던 4\n",
    "if win.isActive == False:\n",
    "    win.activate()\n",
    "    \n",
    "sd_4 = p.locateCenterOnScreen('1.1.1. sd_4_defence.png', confidence=0.8)\n",
    "\n",
    "if menu != None:\n",
    "    p.click(sd_4)\n",
    "    p.sleep(0.5)\n",
    "    p.click(okay)\n",
    "\n",
    "print(sd_4)\n",
    "\n",
    "p.sleep(0.5)"
   ]
  },
  {
   "cell_type": "code",
   "execution_count": 121,
   "id": "31fc5d99",
   "metadata": {},
   "outputs": [],
   "source": [
    "#시던 4 - 입장 대기"
   ]
  },
  {
   "cell_type": "code",
   "execution_count": 122,
   "id": "c5b989de",
   "metadata": {},
   "outputs": [],
   "source": [
    "#시던 4 - 실행"
   ]
  },
  {
   "cell_type": "code",
   "execution_count": 123,
   "id": "92d8f16b",
   "metadata": {},
   "outputs": [
    {
     "name": "stdout",
     "output_type": "stream",
     "text": [
      "None\n"
     ]
    }
   ],
   "source": [
    "#시던 5\n",
    "if win.isActive == False:\n",
    "    win.activate()\n",
    "    \n",
    "sd_5 = p.locateCenterOnScreen('1.1.1. sd_5_treasure.png', confidence=0.8)\n",
    "\n",
    "if menu != None:\n",
    "    p.click(sd_5)\n",
    "    p.sleep(0.5)\n",
    "    p.click(okay)\n",
    "\n",
    "print(sd_5)\n",
    "\n",
    "p.sleep(0.5)"
   ]
  },
  {
   "cell_type": "code",
   "execution_count": 124,
   "id": "a0f857c4",
   "metadata": {},
   "outputs": [],
   "source": [
    "#시던 5 - 입장 대기"
   ]
  },
  {
   "cell_type": "code",
   "execution_count": 125,
   "id": "295befc4",
   "metadata": {},
   "outputs": [],
   "source": [
    "#시던 5 - 실행"
   ]
  },
  {
   "cell_type": "code",
   "execution_count": 126,
   "id": "dad0e96e",
   "metadata": {},
   "outputs": [
    {
     "name": "stdout",
     "output_type": "stream",
     "text": [
      "None\n"
     ]
    }
   ],
   "source": [
    "#시던 6\n",
    "if win.isActive == False:\n",
    "    win.activate()\n",
    "    \n",
    "sd_6 = p.locateCenterOnScreen('1.1.1. sd_5_treasure.png', confidence=0.8)\n",
    "\n",
    "if menu != None:\n",
    "    p.click(sd_6)\n",
    "    p.sleep(0.5)\n",
    "    p.click(okay)\n",
    "\n",
    "print(sd_6)\n",
    "\n",
    "p.sleep(0.5)"
   ]
  },
  {
   "cell_type": "code",
   "execution_count": 127,
   "id": "e3bf687d",
   "metadata": {},
   "outputs": [],
   "source": [
    "#시던 6 - 입장 대기"
   ]
  },
  {
   "cell_type": "code",
   "execution_count": 128,
   "id": "9004bb9d",
   "metadata": {},
   "outputs": [],
   "source": [
    "#시던 6 - 실행"
   ]
  },
  {
   "cell_type": "code",
   "execution_count": 129,
   "id": "175487ce",
   "metadata": {},
   "outputs": [],
   "source": [
    "#드래그\n",
    "p.sleep(2)\n",
    "p.moveTo(1665,495)\n",
    "p.drag(-1000,0, 1.5, button='left')"
   ]
  },
  {
   "cell_type": "code",
   "execution_count": 130,
   "id": "7b120c90",
   "metadata": {},
   "outputs": [],
   "source": [
    "#시던 7\n",
    "if win.isActive == False:\n",
    "    win.activate()\n",
    "    p.click(1216,495)\n",
    "    p.sleep(0.5)\n",
    "    p.click(okay)\n",
    "\n",
    "p.sleep(0.5)"
   ]
  },
  {
   "cell_type": "code",
   "execution_count": 131,
   "id": "d033d34b",
   "metadata": {},
   "outputs": [],
   "source": [
    "#시던 7 - 입장 대기"
   ]
  },
  {
   "cell_type": "code",
   "execution_count": 132,
   "id": "01392797",
   "metadata": {},
   "outputs": [],
   "source": [
    "#시던 7 - 실행"
   ]
  },
  {
   "cell_type": "code",
   "execution_count": 133,
   "id": "d8b8fe50",
   "metadata": {},
   "outputs": [],
   "source": [
    "#시던 8\n",
    "if win.isActive == False:\n",
    "    win.activate()\n",
    "    p.click(1516,495)\n",
    "    p.sleep(0.5)\n",
    "    p.click(okay)\n",
    "\n",
    "p.sleep(0.5)"
   ]
  },
  {
   "cell_type": "code",
   "execution_count": 134,
   "id": "16108170",
   "metadata": {},
   "outputs": [],
   "source": [
    "#시던 8 - 입장 대기"
   ]
  },
  {
   "cell_type": "code",
   "execution_count": 135,
   "id": "ee78f4ff",
   "metadata": {},
   "outputs": [],
   "source": [
    "#시던 8 - 실행"
   ]
  },
  {
   "cell_type": "code",
   "execution_count": 136,
   "id": "a08c9076",
   "metadata": {},
   "outputs": [],
   "source": [
    "#시던 9\n",
    "if win.isActive == False:\n",
    "    win.activate()\n",
    "    p.click(1816,495)\n",
    "    p.sleep(0.5)\n",
    "    p.click(okay)\n",
    "\n",
    "p.sleep(0.5)"
   ]
  },
  {
   "cell_type": "code",
   "execution_count": 137,
   "id": "1e146244",
   "metadata": {},
   "outputs": [],
   "source": [
    "#시던 9 - 입장 대기"
   ]
  },
  {
   "cell_type": "code",
   "execution_count": 138,
   "id": "16813d70",
   "metadata": {},
   "outputs": [],
   "source": [
    "#시던 9 - 실행"
   ]
  },
  {
   "cell_type": "code",
   "execution_count": 139,
   "id": "ad538eea",
   "metadata": {},
   "outputs": [
    {
     "data": {
      "text/plain": [
       "Point(x=665, y=495)"
      ]
     },
     "execution_count": 139,
     "metadata": {},
     "output_type": "execute_result"
    }
   ],
   "source": [
    "p.sleep(2)\n",
    "p.position()"
   ]
  },
  {
   "cell_type": "code",
   "execution_count": 140,
   "id": "6697cc84",
   "metadata": {
    "scrolled": true
   },
   "outputs": [
    {
     "name": "stdout",
     "output_type": "stream",
     "text": [
      "<Win32Window left=\"0\", top=\"0\", width=\"0\", height=\"0\", title=\"\">\n",
      "<Win32Window left=\"0\", top=\"1040\", width=\"1920\", height=\"40\", title=\"\">\n",
      "<Win32Window left=\"-32000\", top=\"-32000\", width=\"160\", height=\"28\", title=\"PURPLE\">\n",
      "<Win32Window left=\"1751\", top=\"939\", width=\"165\", height=\"101\", title=\"\">\n",
      "<Win32Window left=\"0\", top=\"0\", width=\"1920\", height=\"1040\", title=\"LDPlayer\">\n",
      "<Win32Window left=\"-8\", top=\"-8\", width=\"1936\", height=\"1056\", title=\"1.1. 퍼플 최대화 및 해상도 체크 - Jupyter Notebook - Chrome\">\n",
      "<Win32Window left=\"0\", top=\"40\", width=\"1860\", height=\"1000\", title=\"리니지M l 아즈모단\">\n",
      "<Win32Window left=\"1860\", top=\"0\", width=\"60\", height=\"1040\", title=\"index.html?type=live\">\n",
      "<Win32Window left=\"0\", top=\"0\", width=\"1860\", height=\"40\", title=\"ngptop\">\n",
      "<Win32Window left=\"-8\", top=\"-8\", width=\"1936\", height=\"1056\", title=\"Mouse Control Functions — PyAutoGUI documentation - Chrome\">\n",
      "<Win32Window left=\"473\", top=\"266\", width=\"1139\", height=\"641\", title=\"sample\">\n",
      "<Win32Window left=\"846\", top=\"604\", width=\"643\", height=\"362\", title=\"캡처 도구\">\n",
      "<Win32Window left=\"-8\", top=\"-8\", width=\"1936\", height=\"1056\", title=\"파이썬 opencv 설치하기! - Chrome\">\n",
      "<Win32Window left=\"1082\", top=\"198\", width=\"993\", height=\"519\", title=\"명령 프롬프트\">\n",
      "<Win32Window left=\"26\", top=\"26\", width=\"993\", height=\"519\", title=\"C:\\Windows\\system32\\cmd.exe - jupyter  notebook\">\n",
      "<Win32Window left=\"-32000\", top=\"-32000\", width=\"1085\", height=\"795\", title=\"Citrix Workspace\">\n",
      "<Win32Window left=\"1600\", top=\"3\", width=\"320\", height=\"320\", title=\"스티커 메모\">\n",
      "<Win32Window left=\"0\", top=\"0\", width=\"1920\", height=\"1080\", title=\"Microsoft Text Input Application\">\n",
      "<Win32Window left=\"0\", top=\"0\", width=\"1920\", height=\"1080\", title=\"NVIDIA GeForce Overlay\">\n",
      "<Win32Window left=\"0\", top=\"1\", width=\"260\", height=\"160\", title=\"스티커 메모\">\n",
      "<Win32Window left=\"0\", top=\"0\", width=\"1920\", height=\"1040\", title=\"\">\n",
      "<Win32Window left=\"0\", top=\"0\", width=\"0\", height=\"0\", title=\"\">\n",
      "<Win32Window left=\"15\", top=\"0\", width=\"1905\", height=\"4\", title=\"\">\n",
      "<Win32Window left=\"0\", top=\"0\", width=\"0\", height=\"0\", title=\"\">\n",
      "<Win32Window left=\"0\", top=\"0\", width=\"0\", height=\"0\", title=\"\">\n",
      "<Win32Window left=\"-32000\", top=\"-32000\", width=\"160\", height=\"28\", title=\"*제목 없음 - Windows 메모장\">\n",
      "<Win32Window left=\"0\", top=\"0\", width=\"1920\", height=\"1080\", title=\"Program Manager\">\n"
     ]
    }
   ],
   "source": [
    "#창 title 확인용\n",
    "win = p.getActiveWindow()\n",
    "\n",
    "for win in p.getAllWindows():\n",
    "    print(win)"
   ]
  }
 ],
 "metadata": {
  "kernelspec": {
   "display_name": "Python 3 (ipykernel)",
   "language": "python",
   "name": "python3"
  },
  "language_info": {
   "codemirror_mode": {
    "name": "ipython",
    "version": 3
   },
   "file_extension": ".py",
   "mimetype": "text/x-python",
   "name": "python",
   "nbconvert_exporter": "python",
   "pygments_lexer": "ipython3",
   "version": "3.9.7"
  }
 },
 "nbformat": 4,
 "nbformat_minor": 5
}
